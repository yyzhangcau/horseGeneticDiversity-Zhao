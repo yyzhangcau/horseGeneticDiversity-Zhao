{
 "cells": [
  {
   "cell_type": "code",
   "execution_count": 7,
   "metadata": {},
   "outputs": [],
   "source": [
    "setwd(\"C:/Users/yyzha/Documents/MyJupyter/liushuqin/202009\")\n",
    "set.seed(44)\n",
    "library(\"pegas\")"
   ]
  },
  {
   "cell_type": "code",
   "execution_count": 8,
   "metadata": {},
   "outputs": [
    {
     "name": "stdout",
     "output_type": "stream",
     "text": [
      "number of haplotypes\n",
      "mean: 4.82 variance: 1.170771 \n",
      "haplotype diversity\n",
      "mean: 0.7752444 variance: 0.01110098 \n"
     ]
    }
   ],
   "source": [
    "# DB\n",
    "df=read.loci(\"DB.txt\")\n",
    "totaln=80\n",
    "n=10\n",
    "len=c()\n",
    "hap=c()\n",
    "for (i in 1:1000){\n",
    "    a=df[c(sample(totaln,n,replace=T)),]\n",
    "    hap[i]=hap.div(haplotype(loci2alleles(a)))\n",
    "    len[i]=length(summary(haplotype(loci2alleles(a))))\n",
    "}\n",
    "#nucleotide diveristy\n",
    "cat(\"number of haplotypes\\n\")\n",
    "cat(\"mean:\",mean(len),\"variance:\",var(len),\"\\n\")\n",
    "#haplotype diversity\n",
    "cat(\"haplotype diversity\\n\")\n",
    "cat(\"mean:\",mean(hap),\"variance:\",var(hap),\"\\n\")"
   ]
  },
  {
   "cell_type": "code",
   "execution_count": 9,
   "metadata": {},
   "outputs": [
    {
     "name": "stdout",
     "output_type": "stream",
     "text": [
      "number of haplotypes\n",
      "mean: 1.935 variance: 0.5973724 \n",
      "haplotype diversity\n",
      "mean: 0.2091556 variance: 0.03097233 \n"
     ]
    }
   ],
   "source": [
    "# LJ\n",
    "df=read.loci(\"LJ.txt\")\n",
    "totaln=36\n",
    "n=10\n",
    "len=c()\n",
    "hap=c()\n",
    "for (i in 1:1000){\n",
    "    a=df[c(sample(totaln,n,replace=T)),]\n",
    "    hap[i]=hap.div(haplotype(loci2alleles(a)))\n",
    "    len[i]=length(summary(haplotype(loci2alleles(a))))\n",
    "}\n",
    "#nucleotide diveristy\n",
    "cat(\"number of haplotypes\\n\")\n",
    "cat(\"mean:\",mean(len),\"variance:\",var(len),\"\\n\")\n",
    "#haplotype diversity\n",
    "cat(\"haplotype diversity\\n\")\n",
    "cat(\"mean:\",mean(hap),\"variance:\",var(hap),\"\\n\")"
   ]
  },
  {
   "cell_type": "code",
   "execution_count": 10,
   "metadata": {},
   "outputs": [
    {
     "name": "stdout",
     "output_type": "stream",
     "text": [
      "number of haplotypes\n",
      "mean: 5.222 variance: 0.8215375 \n",
      "haplotype diversity\n",
      "mean: 0.8341111 variance: 0.004411708 \n"
     ]
    }
   ],
   "source": [
    "#GZ\n",
    "df=read.loci(\"GZ.txt\")\n",
    "totaln=12\n",
    "n=10\n",
    "len=c()\n",
    "hap=c()\n",
    "for (i in 1:1000){\n",
    "    a=df[c(sample(totaln,n,replace=T)),]\n",
    "    hap[i]=hap.div(haplotype(loci2alleles(a)))\n",
    "    len[i]=length(summary(haplotype(loci2alleles(a))))\n",
    "}\n",
    "#nucleotide diveristy\n",
    "cat(\"number of haplotypes\\n\")\n",
    "cat(\"mean:\",mean(len),\"variance:\",var(len),\"\\n\")\n",
    "#haplotype diversity\n",
    "cat(\"haplotype diversity\\n\")\n",
    "cat(\"mean:\",mean(hap),\"variance:\",var(hap),\"\\n\")"
   ]
  },
  {
   "cell_type": "code",
   "execution_count": 11,
   "metadata": {},
   "outputs": [
    {
     "name": "stdout",
     "output_type": "stream",
     "text": [
      "number of haplotypes\n",
      "mean: 3.004 variance: 0.7106947 \n",
      "haplotype diversity\n",
      "mean: 0.4790667 variance: 0.03373677 \n"
     ]
    }
   ],
   "source": [
    "#TC\n",
    "df=read.loci(\"TC.txt\")\n",
    "totaln=33\n",
    "n=10\n",
    "len=c()\n",
    "hap=c()\n",
    "for (i in 1:1000){\n",
    "    a=df[c(sample(totaln,n,replace=T)),]\n",
    "    hap[i]=hap.div(haplotype(loci2alleles(a)))\n",
    "    len[i]=length(summary(haplotype(loci2alleles(a))))\n",
    "}\n",
    "#nucleotide diveristy\n",
    "cat(\"number of haplotypes\\n\")\n",
    "cat(\"mean:\",mean(len),\"variance:\",var(len),\"\\n\")\n",
    "#haplotype diversity\n",
    "cat(\"haplotype diversity\\n\")\n",
    "cat(\"mean:\",mean(hap),\"variance:\",var(hap),\"\\n\")"
   ]
  },
  {
   "cell_type": "code",
   "execution_count": null,
   "metadata": {},
   "outputs": [],
   "source": []
  }
 ],
 "metadata": {
  "kernelspec": {
   "display_name": "R",
   "language": "R",
   "name": "ir"
  },
  "language_info": {
   "codemirror_mode": "r",
   "file_extension": ".r",
   "mimetype": "text/x-r-source",
   "name": "R",
   "pygments_lexer": "r",
   "version": "4.0.2"
  }
 },
 "nbformat": 4,
 "nbformat_minor": 4
}
