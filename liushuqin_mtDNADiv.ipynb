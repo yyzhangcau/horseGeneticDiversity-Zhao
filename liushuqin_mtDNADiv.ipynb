{
 "cells": [
  {
   "cell_type": "code",
   "execution_count": null,
   "metadata": {},
   "outputs": [],
   "source": [
    "library(\"pegas\")"
   ]
  },
  {
   "cell_type": "code",
   "execution_count": 2,
   "metadata": {},
   "outputs": [],
   "source": [
    "setwd(\"C:/zyywd/20200611_liu/mtDNA\")\n",
    "set.seed(44)"
   ]
  },
  {
   "cell_type": "code",
   "execution_count": 18,
   "metadata": {},
   "outputs": [
    {
     "name": "stdout",
     "output_type": "stream",
     "text": [
      "nucleotide diversity"
     ]
    },
    {
     "data": {
      "text/html": [
       "0.0275805335398336"
      ],
      "text/latex": [
       "0.0275805335398336"
      ],
      "text/markdown": [
       "0.0275805335398336"
      ],
      "text/plain": [
       "[1] 0.02758053"
      ]
     },
     "metadata": {},
     "output_type": "display_data"
    },
    {
     "data": {
      "text/html": [
       "5.20367525732972e-06"
      ],
      "text/latex": [
       "5.20367525732972e-06"
      ],
      "text/markdown": [
       "5.20367525732972e-06"
      ],
      "text/plain": [
       "[1] 5.203675e-06"
      ]
     },
     "metadata": {},
     "output_type": "display_data"
    },
    {
     "name": "stdout",
     "output_type": "stream",
     "text": [
      "haplotype diversity"
     ]
    },
    {
     "data": {
      "text/html": [
       "0.959631578947368"
      ],
      "text/latex": [
       "0.959631578947368"
      ],
      "text/markdown": [
       "0.959631578947368"
      ],
      "text/plain": [
       "[1] 0.9596316"
      ]
     },
     "metadata": {},
     "output_type": "display_data"
    },
    {
     "data": {
      "text/html": [
       "0.000351905922543041"
      ],
      "text/latex": [
       "0.000351905922543041"
      ],
      "text/markdown": [
       "0.000351905922543041"
      ],
      "text/plain": [
       "[1] 0.0003519059"
      ]
     },
     "metadata": {},
     "output_type": "display_data"
    }
   ],
   "source": [
    "#mtDNA-AR\n",
    "df=read.dna(\"mtDNA-AR.fas\",\"fasta\")\n",
    "totaln=length(df[,1])\n",
    "n=20\n",
    "nuc=c()\n",
    "hap=c()\n",
    "for (i in 1:1000){\n",
    "    a=df[c(sample(totaln,n,replace=T)),]\n",
    "    nuc[i]=nuc.div(a)\n",
    "    hap[i]=hap.div(a)\n",
    "}\n",
    "#nucleotide diveristy\n",
    "cat(\"nucleotide diversity\")\n",
    "mean(nuc);var(nuc)\n",
    "#haplotype diversity\n",
    "cat(\"haplotype diversity\")\n",
    "mean(hap);var(hap)"
   ]
  },
  {
   "cell_type": "code",
   "execution_count": 19,
   "metadata": {},
   "outputs": [
    {
     "name": "stdout",
     "output_type": "stream",
     "text": [
      "nucleotide diversity"
     ]
    },
    {
     "data": {
      "text/html": [
       "0.0261168502994427"
      ],
      "text/latex": [
       "0.0261168502994427"
      ],
      "text/markdown": [
       "0.0261168502994427"
      ],
      "text/plain": [
       "[1] 0.02611685"
      ]
     },
     "metadata": {},
     "output_type": "display_data"
    },
    {
     "data": {
      "text/html": [
       "4.89769657456924e-06"
      ],
      "text/latex": [
       "4.89769657456924e-06"
      ],
      "text/markdown": [
       "4.89769657456924e-06"
      ],
      "text/plain": [
       "[1] 4.897697e-06"
      ]
     },
     "metadata": {},
     "output_type": "display_data"
    },
    {
     "name": "stdout",
     "output_type": "stream",
     "text": [
      "haplotype diversity"
     ]
    },
    {
     "data": {
      "text/html": [
       "0.941452631578947"
      ],
      "text/latex": [
       "0.941452631578947"
      ],
      "text/markdown": [
       "0.941452631578947"
      ],
      "text/plain": [
       "[1] 0.9414526"
      ]
     },
     "metadata": {},
     "output_type": "display_data"
    },
    {
     "data": {
      "text/html": [
       "0.000486043495018564"
      ],
      "text/latex": [
       "0.000486043495018564"
      ],
      "text/markdown": [
       "0.000486043495018564"
      ],
      "text/plain": [
       "[1] 0.0004860435"
      ]
     },
     "metadata": {},
     "output_type": "display_data"
    }
   ],
   "source": [
    "#mtDNA-AT\n",
    "df=read.dna(\"mtDNA-AT.fas\",\"fasta\")\n",
    "totaln=length(df[,1])\n",
    "n=20\n",
    "nuc=c()\n",
    "hap=c()\n",
    "for (i in 1:1000){\n",
    "    a=df[c(sample(totaln,n,replace=T)),]\n",
    "    nuc[i]=nuc.div(a)\n",
    "    hap[i]=hap.div(a)\n",
    "}\n",
    "#nucleotide diveristy\n",
    "cat(\"nucleotide diversity\")\n",
    "mean(nuc);var(nuc)\n",
    "#haplotype diversity\n",
    "cat(\"haplotype diversity\")\n",
    "mean(hap);var(hap)"
   ]
  },
  {
   "cell_type": "code",
   "execution_count": 5,
   "metadata": {},
   "outputs": [
    {
     "name": "stdout",
     "output_type": "stream",
     "text": [
      "nucleotide diversity"
     ]
    },
    {
     "data": {
      "text/html": [
       "0.023213424508739"
      ],
      "text/latex": [
       "0.023213424508739"
      ],
      "text/markdown": [
       "0.023213424508739"
      ],
      "text/plain": [
       "[1] 0.02321342"
      ]
     },
     "metadata": {},
     "output_type": "display_data"
    },
    {
     "data": {
      "text/html": [
       "4.91619884219194e-06"
      ],
      "text/latex": [
       "4.91619884219194e-06"
      ],
      "text/markdown": [
       "4.91619884219194e-06"
      ],
      "text/plain": [
       "[1] 4.916199e-06"
      ]
     },
     "metadata": {},
     "output_type": "display_data"
    },
    {
     "name": "stdout",
     "output_type": "stream",
     "text": [
      "haplotype diversity"
     ]
    },
    {
     "data": {
      "text/html": [
       "0.921868421052632"
      ],
      "text/latex": [
       "0.921868421052632"
      ],
      "text/markdown": [
       "0.921868421052632"
      ],
      "text/plain": [
       "[1] 0.9218684"
      ]
     },
     "metadata": {},
     "output_type": "display_data"
    },
    {
     "data": {
      "text/html": [
       "0.000550494400217392"
      ],
      "text/latex": [
       "0.000550494400217392"
      ],
      "text/markdown": [
       "0.000550494400217392"
      ],
      "text/plain": [
       "[1] 0.0005504944"
      ]
     },
     "metadata": {},
     "output_type": "display_data"
    }
   ],
   "source": [
    "#mtDNA-CK\n",
    "df=read.dna(\"mtDNA-CK.fas\",\"fasta\")\n",
    "totaln=length(df[,1])\n",
    "n=20\n",
    "nuc=c()\n",
    "hap=c()\n",
    "for (i in 1:1000){\n",
    "    a=df[c(sample(totaln,n,replace=T)),]\n",
    "    nuc[i]=nuc.div(a)\n",
    "    hap[i]=hap.div(a)\n",
    "}\n",
    "#nucleotide diveristy\n",
    "cat(\"nucleotide diversity\")\n",
    "mean(nuc);var(nuc)\n",
    "#haplotype diversity\n",
    "cat(\"haplotype diversity\")\n",
    "mean(hap);var(hap)"
   ]
  },
  {
   "cell_type": "code",
   "execution_count": 6,
   "metadata": {},
   "outputs": [
    {
     "name": "stdout",
     "output_type": "stream",
     "text": [
      "nucleotide diversity"
     ]
    },
    {
     "data": {
      "text/html": [
       "0.0221158309642973"
      ],
      "text/latex": [
       "0.0221158309642973"
      ],
      "text/markdown": [
       "0.0221158309642973"
      ],
      "text/plain": [
       "[1] 0.02211583"
      ]
     },
     "metadata": {},
     "output_type": "display_data"
    },
    {
     "data": {
      "text/html": [
       "7.80500848008132e-06"
      ],
      "text/latex": [
       "7.80500848008132e-06"
      ],
      "text/markdown": [
       "7.80500848008132e-06"
      ],
      "text/plain": [
       "[1] 7.805008e-06"
      ]
     },
     "metadata": {},
     "output_type": "display_data"
    },
    {
     "name": "stdout",
     "output_type": "stream",
     "text": [
      "haplotype diversity"
     ]
    },
    {
     "data": {
      "text/html": [
       "0.904289473684211"
      ],
      "text/latex": [
       "0.904289473684211"
      ],
      "text/markdown": [
       "0.904289473684211"
      ],
      "text/plain": [
       "[1] 0.9042895"
      ]
     },
     "metadata": {},
     "output_type": "display_data"
    },
    {
     "data": {
      "text/html": [
       "0.00189155291025097"
      ],
      "text/latex": [
       "0.00189155291025097"
      ],
      "text/markdown": [
       "0.00189155291025097"
      ],
      "text/plain": [
       "[1] 0.001891553"
      ]
     },
     "metadata": {},
     "output_type": "display_data"
    }
   ],
   "source": [
    "#mtDNA-DBP\n",
    "df=read.dna(\"mtDNA-DBP.fas\",\"fasta\")\n",
    "totaln=length(df[,1])\n",
    "n=20\n",
    "nuc=c()\n",
    "hap=c()\n",
    "for (i in 1:1000){\n",
    "    a=df[c(sample(totaln,n,replace=T)),]\n",
    "    nuc[i]=nuc.div(a)\n",
    "    hap[i]=hap.div(a)\n",
    "}\n",
    "#nucleotide diveristy\n",
    "cat(\"nucleotide diversity\")\n",
    "mean(nuc);var(nuc)\n",
    "#haplotype diversity\n",
    "cat(\"haplotype diversity\")\n",
    "mean(hap);var(hap)"
   ]
  },
  {
   "cell_type": "code",
   "execution_count": 7,
   "metadata": {},
   "outputs": [
    {
     "name": "stdout",
     "output_type": "stream",
     "text": [
      "nucleotide diversity"
     ]
    },
    {
     "data": {
      "text/html": [
       "0.025276155976987"
      ],
      "text/latex": [
       "0.025276155976987"
      ],
      "text/markdown": [
       "0.025276155976987"
      ],
      "text/plain": [
       "[1] 0.02527616"
      ]
     },
     "metadata": {},
     "output_type": "display_data"
    },
    {
     "data": {
      "text/html": [
       "4.58441181023822e-06"
      ],
      "text/latex": [
       "4.58441181023822e-06"
      ],
      "text/markdown": [
       "4.58441181023822e-06"
      ],
      "text/plain": [
       "[1] 4.584412e-06"
      ]
     },
     "metadata": {},
     "output_type": "display_data"
    },
    {
     "name": "stdout",
     "output_type": "stream",
     "text": [
      "haplotype diversity"
     ]
    },
    {
     "data": {
      "text/html": [
       "0.921473684210526"
      ],
      "text/latex": [
       "0.921473684210526"
      ],
      "text/markdown": [
       "0.921473684210526"
      ],
      "text/plain": [
       "[1] 0.9214737"
      ]
     },
     "metadata": {},
     "output_type": "display_data"
    },
    {
     "data": {
      "text/html": [
       "0.00077771954780265"
      ],
      "text/latex": [
       "0.00077771954780265"
      ],
      "text/markdown": [
       "0.00077771954780265"
      ],
      "text/plain": [
       "[1] 0.0007777195"
      ]
     },
     "metadata": {},
     "output_type": "display_data"
    }
   ],
   "source": [
    "#mtDNA-ELC\n",
    "df=read.dna(\"mtDNA-ELC.fas\",\"fasta\")\n",
    "totaln=length(df[,1])\n",
    "n=20\n",
    "nuc=c()\n",
    "hap=c()\n",
    "for (i in 1:1000){\n",
    "    a=df[c(sample(totaln,n,replace=T)),]\n",
    "    nuc[i]=nuc.div(a)\n",
    "    hap[i]=hap.div(a)\n",
    "}\n",
    "#nucleotide diveristy\n",
    "cat(\"nucleotide diversity\")\n",
    "mean(nuc);var(nuc)\n",
    "#haplotype diversity\n",
    "cat(\"haplotype diversity\")\n",
    "mean(hap);var(hap)"
   ]
  },
  {
   "cell_type": "code",
   "execution_count": 8,
   "metadata": {},
   "outputs": [
    {
     "name": "stdout",
     "output_type": "stream",
     "text": [
      "nucleotide diversity"
     ]
    },
    {
     "data": {
      "text/html": [
       "0.0223074103620857"
      ],
      "text/latex": [
       "0.0223074103620857"
      ],
      "text/markdown": [
       "0.0223074103620857"
      ],
      "text/plain": [
       "[1] 0.02230741"
      ]
     },
     "metadata": {},
     "output_type": "display_data"
    },
    {
     "data": {
      "text/html": [
       "5.76578504643391e-06"
      ],
      "text/latex": [
       "5.76578504643391e-06"
      ],
      "text/markdown": [
       "5.76578504643391e-06"
      ],
      "text/plain": [
       "[1] 5.765785e-06"
      ]
     },
     "metadata": {},
     "output_type": "display_data"
    },
    {
     "name": "stdout",
     "output_type": "stream",
     "text": [
      "haplotype diversity"
     ]
    },
    {
     "data": {
      "text/html": [
       "0.906421052631579"
      ],
      "text/latex": [
       "0.906421052631579"
      ],
      "text/markdown": [
       "0.906421052631579"
      ],
      "text/plain": [
       "[1] 0.9064211"
      ]
     },
     "metadata": {},
     "output_type": "display_data"
    },
    {
     "data": {
      "text/html": [
       "0.00170340978097211"
      ],
      "text/latex": [
       "0.00170340978097211"
      ],
      "text/markdown": [
       "0.00170340978097211"
      ],
      "text/plain": [
       "[1] 0.00170341"
      ]
     },
     "metadata": {},
     "output_type": "display_data"
    }
   ],
   "source": [
    "#mtDNA-GZ\n",
    "df=read.dna(\"mtDNA-GZ.fas\",\"fasta\")\n",
    "totaln=length(df[,1])\n",
    "n=20\n",
    "nuc=c()\n",
    "hap=c()\n",
    "for (i in 1:1000){\n",
    "    a=df[c(sample(totaln,n,replace=T)),]\n",
    "    nuc[i]=nuc.div(a)\n",
    "    hap[i]=hap.div(a)\n",
    "}\n",
    "#nucleotide diveristy\n",
    "cat(\"nucleotide diversity\")\n",
    "mean(nuc);var(nuc)\n",
    "#haplotype diversity\n",
    "cat(\"haplotype diversity\")\n",
    "mean(hap);var(hap)"
   ]
  },
  {
   "cell_type": "code",
   "execution_count": 9,
   "metadata": {},
   "outputs": [
    {
     "name": "stdout",
     "output_type": "stream",
     "text": [
      "nucleotide diversity"
     ]
    },
    {
     "data": {
      "text/html": [
       "0.0270291696333754"
      ],
      "text/latex": [
       "0.0270291696333754"
      ],
      "text/markdown": [
       "0.0270291696333754"
      ],
      "text/plain": [
       "[1] 0.02702917"
      ]
     },
     "metadata": {},
     "output_type": "display_data"
    },
    {
     "data": {
      "text/html": [
       "4.47893893115332e-06"
      ],
      "text/latex": [
       "4.47893893115332e-06"
      ],
      "text/markdown": [
       "4.47893893115332e-06"
      ],
      "text/plain": [
       "[1] 4.478939e-06"
      ]
     },
     "metadata": {},
     "output_type": "display_data"
    },
    {
     "name": "stdout",
     "output_type": "stream",
     "text": [
      "haplotype diversity"
     ]
    },
    {
     "data": {
      "text/html": [
       "0.933852631578947"
      ],
      "text/latex": [
       "0.933852631578947"
      ],
      "text/markdown": [
       "0.933852631578947"
      ],
      "text/plain": [
       "[1] 0.9338526"
      ]
     },
     "metadata": {},
     "output_type": "display_data"
    },
    {
     "data": {
      "text/html": [
       "0.000698076913478575"
      ],
      "text/latex": [
       "0.000698076913478575"
      ],
      "text/markdown": [
       "0.000698076913478575"
      ],
      "text/plain": [
       "[1] 0.0006980769"
      ]
     },
     "metadata": {},
     "output_type": "display_data"
    }
   ],
   "source": [
    "#mtDNA-IMG\n",
    "df=read.dna(\"mtDNA-IMG.fas\",\"fasta\")\n",
    "totaln=length(df[,1])\n",
    "n=20\n",
    "nuc=c()\n",
    "hap=c()\n",
    "for (i in 1:1000){\n",
    "    a=df[c(sample(totaln,n,replace=T)),]\n",
    "    nuc[i]=nuc.div(a)\n",
    "    hap[i]=hap.div(a)\n",
    "}\n",
    "#nucleotide diveristy\n",
    "cat(\"nucleotide diversity\")\n",
    "mean(nuc);var(nuc)\n",
    "#haplotype diversity\n",
    "cat(\"haplotype diversity\")\n",
    "mean(hap);var(hap)"
   ]
  },
  {
   "cell_type": "code",
   "execution_count": 10,
   "metadata": {},
   "outputs": [
    {
     "name": "stdout",
     "output_type": "stream",
     "text": [
      "nucleotide diversity"
     ]
    },
    {
     "data": {
      "text/html": [
       "0.0287281768037156"
      ],
      "text/latex": [
       "0.0287281768037156"
      ],
      "text/markdown": [
       "0.0287281768037156"
      ],
      "text/plain": [
       "[1] 0.02872818"
      ]
     },
     "metadata": {},
     "output_type": "display_data"
    },
    {
     "data": {
      "text/html": [
       "4.08064892165371e-06"
      ],
      "text/latex": [
       "4.08064892165371e-06"
      ],
      "text/markdown": [
       "4.08064892165371e-06"
      ],
      "text/plain": [
       "[1] 4.080649e-06"
      ]
     },
     "metadata": {},
     "output_type": "display_data"
    },
    {
     "name": "stdout",
     "output_type": "stream",
     "text": [
      "haplotype diversity"
     ]
    },
    {
     "data": {
      "text/html": [
       "0.953436842105263"
      ],
      "text/latex": [
       "0.953436842105263"
      ],
      "text/markdown": [
       "0.953436842105263"
      ],
      "text/plain": [
       "[1] 0.9534368"
      ]
     },
     "metadata": {},
     "output_type": "display_data"
    },
    {
     "data": {
      "text/html": [
       "0.000316038781163434"
      ],
      "text/latex": [
       "0.000316038781163434"
      ],
      "text/markdown": [
       "0.000316038781163434"
      ],
      "text/plain": [
       "[1] 0.0003160388"
      ]
     },
     "metadata": {},
     "output_type": "display_data"
    }
   ],
   "source": [
    "#mtDNA-KZK\n",
    "df=read.dna(\"mtDNA-KZK.fas\",\"fasta\")\n",
    "totaln=length(df[,1])\n",
    "n=20\n",
    "nuc=c()\n",
    "hap=c()\n",
    "for (i in 1:1000){\n",
    "    a=df[c(sample(totaln,n,replace=T)),]\n",
    "    nuc[i]=nuc.div(a)\n",
    "    hap[i]=hap.div(a)\n",
    "}\n",
    "#nucleotide diveristy\n",
    "cat(\"nucleotide diversity\")\n",
    "mean(nuc);var(nuc)\n",
    "#haplotype diversity\n",
    "cat(\"haplotype diversity\")\n",
    "mean(hap);var(hap)\n"
   ]
  },
  {
   "cell_type": "code",
   "execution_count": 11,
   "metadata": {},
   "outputs": [
    {
     "name": "stdout",
     "output_type": "stream",
     "text": [
      "nucleotide diversity"
     ]
    },
    {
     "data": {
      "text/html": [
       "0.0238477383718009"
      ],
      "text/latex": [
       "0.0238477383718009"
      ],
      "text/markdown": [
       "0.0238477383718009"
      ],
      "text/plain": [
       "[1] 0.02384774"
      ]
     },
     "metadata": {},
     "output_type": "display_data"
    },
    {
     "data": {
      "text/html": [
       "4.2094114565571e-06"
      ],
      "text/latex": [
       "4.2094114565571e-06"
      ],
      "text/markdown": [
       "4.2094114565571e-06"
      ],
      "text/plain": [
       "[1] 4.209411e-06"
      ]
     },
     "metadata": {},
     "output_type": "display_data"
    },
    {
     "name": "stdout",
     "output_type": "stream",
     "text": [
      "haplotype diversity"
     ]
    },
    {
     "data": {
      "text/html": [
       "0.938594736842105"
      ],
      "text/latex": [
       "0.938594736842105"
      ],
      "text/markdown": [
       "0.938594736842105"
      ],
      "text/plain": [
       "[1] 0.9385947"
      ]
     },
     "metadata": {},
     "output_type": "display_data"
    },
    {
     "data": {
      "text/html": [
       "0.000628664980770244"
      ],
      "text/latex": [
       "0.000628664980770244"
      ],
      "text/markdown": [
       "0.000628664980770244"
      ],
      "text/plain": [
       "[1] 0.000628665"
      ]
     },
     "metadata": {},
     "output_type": "display_data"
    }
   ],
   "source": [
    "#mtDNA-LJ\n",
    "df=read.dna(\"mtDNA-LJ.fas\",\"fasta\")\n",
    "totaln=length(df[,1])\n",
    "n=20\n",
    "nuc=c()\n",
    "hap=c()\n",
    "for (i in 1:1000){\n",
    "    a=df[c(sample(totaln,n,replace=T)),]\n",
    "    nuc[i]=nuc.div(a)\n",
    "    hap[i]=hap.div(a)\n",
    "}\n",
    "#nucleotide diveristy\n",
    "cat(\"nucleotide diversity\")\n",
    "mean(nuc);var(nuc)\n",
    "#haplotype diversity\n",
    "cat(\"haplotype diversity\")\n",
    "mean(hap);var(hap)"
   ]
  },
  {
   "cell_type": "code",
   "execution_count": 12,
   "metadata": {},
   "outputs": [
    {
     "name": "stdout",
     "output_type": "stream",
     "text": [
      "nucleotide diversity"
     ]
    },
    {
     "data": {
      "text/html": [
       "0.0226071581268764"
      ],
      "text/latex": [
       "0.0226071581268764"
      ],
      "text/markdown": [
       "0.0226071581268764"
      ],
      "text/plain": [
       "[1] 0.02260716"
      ]
     },
     "metadata": {},
     "output_type": "display_data"
    },
    {
     "data": {
      "text/html": [
       "5.35390239794647e-06"
      ],
      "text/latex": [
       "5.35390239794647e-06"
      ],
      "text/markdown": [
       "5.35390239794647e-06"
      ],
      "text/plain": [
       "[1] 5.353902e-06"
      ]
     },
     "metadata": {},
     "output_type": "display_data"
    },
    {
     "name": "stdout",
     "output_type": "stream",
     "text": [
      "haplotype diversity"
     ]
    },
    {
     "data": {
      "text/html": [
       "0.929094736842105"
      ],
      "text/latex": [
       "0.929094736842105"
      ],
      "text/markdown": [
       "0.929094736842105"
      ],
      "text/plain": [
       "[1] 0.9290947"
      ]
     },
     "metadata": {},
     "output_type": "display_data"
    },
    {
     "data": {
      "text/html": [
       "0.000634074961387981"
      ],
      "text/latex": [
       "0.000634074961387981"
      ],
      "text/markdown": [
       "0.000634074961387981"
      ],
      "text/plain": [
       "[1] 0.000634075"
      ]
     },
     "metadata": {},
     "output_type": "display_data"
    }
   ],
   "source": [
    "#mtDNA-NQ\n",
    "df=read.dna(\"mtDNA-NQ.fas\",\"fasta\")\n",
    "totaln=length(df[,1])\n",
    "n=20\n",
    "nuc=c()\n",
    "hap=c()\n",
    "for (i in 1:1000){\n",
    "    a=df[c(sample(totaln,n,replace=T)),]\n",
    "    nuc[i]=nuc.div(a)\n",
    "    hap[i]=hap.div(a)\n",
    "}\n",
    "#nucleotide diveristy\n",
    "cat(\"nucleotide diversity\")\n",
    "mean(nuc);var(nuc)\n",
    "#haplotype diversity\n",
    "cat(\"haplotype diversity\")\n",
    "mean(hap);var(hap)"
   ]
  },
  {
   "cell_type": "code",
   "execution_count": 13,
   "metadata": {},
   "outputs": [
    {
     "name": "stdout",
     "output_type": "stream",
     "text": [
      "nucleotide diversity"
     ]
    },
    {
     "data": {
      "text/html": [
       "0.0216323627648167"
      ],
      "text/latex": [
       "0.0216323627648167"
      ],
      "text/markdown": [
       "0.0216323627648167"
      ],
      "text/plain": [
       "[1] 0.02163236"
      ]
     },
     "metadata": {},
     "output_type": "display_data"
    },
    {
     "data": {
      "text/html": [
       "7.48293109252908e-06"
      ],
      "text/latex": [
       "7.48293109252908e-06"
      ],
      "text/markdown": [
       "7.48293109252908e-06"
      ],
      "text/plain": [
       "[1] 7.482931e-06"
      ]
     },
     "metadata": {},
     "output_type": "display_data"
    },
    {
     "name": "stdout",
     "output_type": "stream",
     "text": [
      "haplotype diversity"
     ]
    },
    {
     "data": {
      "text/html": [
       "0.8986"
      ],
      "text/latex": [
       "0.8986"
      ],
      "text/markdown": [
       "0.8986"
      ],
      "text/plain": [
       "[1] 0.8986"
      ]
     },
     "metadata": {},
     "output_type": "display_data"
    },
    {
     "data": {
      "text/html": [
       "0.000754972257576136"
      ],
      "text/latex": [
       "0.000754972257576136"
      ],
      "text/markdown": [
       "0.000754972257576136"
      ],
      "text/plain": [
       "[1] 0.0007549723"
      ]
     },
     "metadata": {},
     "output_type": "display_data"
    }
   ],
   "source": [
    "#mtDNA-NQU\n",
    "df=read.dna(\"mtDNA-NQU.fas\",\"fasta\")\n",
    "totaln=length(df[,1])\n",
    "n=20\n",
    "nuc=c()\n",
    "hap=c()\n",
    "for (i in 1:1000){\n",
    "    a=df[c(sample(totaln,n,replace=T)),]\n",
    "    nuc[i]=nuc.div(a)\n",
    "    hap[i]=hap.div(a)\n",
    "}\n",
    "#nucleotide diveristy\n",
    "cat(\"nucleotide diversity\")\n",
    "mean(nuc);var(nuc)\n",
    "#haplotype diversity\n",
    "cat(\"haplotype diversity\")\n",
    "mean(hap);var(hap)"
   ]
  },
  {
   "cell_type": "code",
   "execution_count": 14,
   "metadata": {},
   "outputs": [
    {
     "name": "stdout",
     "output_type": "stream",
     "text": [
      "nucleotide diversity"
     ]
    },
    {
     "data": {
      "text/html": [
       "0.0207644741606163"
      ],
      "text/latex": [
       "0.0207644741606163"
      ],
      "text/markdown": [
       "0.0207644741606163"
      ],
      "text/plain": [
       "[1] 0.02076447"
      ]
     },
     "metadata": {},
     "output_type": "display_data"
    },
    {
     "data": {
      "text/html": [
       "7.90779780862645e-06"
      ],
      "text/latex": [
       "7.90779780862645e-06"
      ],
      "text/markdown": [
       "7.90779780862645e-06"
      ],
      "text/plain": [
       "[1] 7.907798e-06"
      ]
     },
     "metadata": {},
     "output_type": "display_data"
    },
    {
     "name": "stdout",
     "output_type": "stream",
     "text": [
      "haplotype diversity"
     ]
    },
    {
     "data": {
      "text/html": [
       "0.880731578947368"
      ],
      "text/latex": [
       "0.880731578947368"
      ],
      "text/markdown": [
       "0.880731578947368"
      ],
      "text/plain": [
       "[1] 0.8807316"
      ]
     },
     "metadata": {},
     "output_type": "display_data"
    },
    {
     "data": {
      "text/html": [
       "0.00167436353250758"
      ],
      "text/latex": [
       "0.00167436353250758"
      ],
      "text/markdown": [
       "0.00167436353250758"
      ],
      "text/plain": [
       "[1] 0.001674364"
      ]
     },
     "metadata": {},
     "output_type": "display_data"
    }
   ],
   "source": [
    "#mtDNA-South\n",
    "df=read.dna(\"mtDNA-South.fas\",\"fasta\")\n",
    "totaln=length(df[,1])\n",
    "n=20\n",
    "nuc=c()\n",
    "hap=c()\n",
    "for (i in 1:1000){\n",
    "    a=df[c(sample(totaln,n,replace=T)),]\n",
    "    nuc[i]=nuc.div(a)\n",
    "    hap[i]=hap.div(a)\n",
    "}\n",
    "#nucleotide diveristy\n",
    "cat(\"nucleotide diversity\")\n",
    "mean(nuc);var(nuc)\n",
    "#haplotype diversity\n",
    "cat(\"haplotype diversity\")\n",
    "mean(hap);var(hap)"
   ]
  },
  {
   "cell_type": "code",
   "execution_count": 15,
   "metadata": {},
   "outputs": [
    {
     "name": "stdout",
     "output_type": "stream",
     "text": [
      "nucleotide diversity"
     ]
    },
    {
     "data": {
      "text/html": [
       "0.028419722296545"
      ],
      "text/latex": [
       "0.028419722296545"
      ],
      "text/markdown": [
       "0.028419722296545"
      ],
      "text/plain": [
       "[1] 0.02841972"
      ]
     },
     "metadata": {},
     "output_type": "display_data"
    },
    {
     "data": {
      "text/html": [
       "4.29512427952811e-06"
      ],
      "text/latex": [
       "4.29512427952811e-06"
      ],
      "text/markdown": [
       "4.29512427952811e-06"
      ],
      "text/plain": [
       "[1] 4.295124e-06"
      ]
     },
     "metadata": {},
     "output_type": "display_data"
    },
    {
     "name": "stdout",
     "output_type": "stream",
     "text": [
      "haplotype diversity"
     ]
    },
    {
     "data": {
      "text/html": [
       "0.937231578947368"
      ],
      "text/latex": [
       "0.937231578947368"
      ],
      "text/markdown": [
       "0.937231578947368"
      ],
      "text/plain": [
       "[1] 0.9372316"
      ]
     },
     "metadata": {},
     "output_type": "display_data"
    },
    {
     "data": {
      "text/html": [
       "0.000621300635815871"
      ],
      "text/latex": [
       "0.000621300635815871"
      ],
      "text/markdown": [
       "0.000621300635815871"
      ],
      "text/plain": [
       "[1] 0.0006213006"
      ]
     },
     "metadata": {},
     "output_type": "display_data"
    }
   ],
   "source": [
    "#mtDNA-TB\n",
    "df=read.dna(\"mtDNA-TB.fas\",\"fasta\")\n",
    "totaln=length(df[,1])\n",
    "n=20\n",
    "nuc=c()\n",
    "hap=c()\n",
    "for (i in 1:1000){\n",
    "    a=df[c(sample(totaln,n,replace=T)),]\n",
    "    nuc[i]=nuc.div(a)\n",
    "    hap[i]=hap.div(a)\n",
    "}\n",
    "#nucleotide diveristy\n",
    "cat(\"nucleotide diversity\")\n",
    "mean(nuc);var(nuc)\n",
    "#haplotype diversity\n",
    "cat(\"haplotype diversity\")\n",
    "mean(hap);var(hap)"
   ]
  },
  {
   "cell_type": "code",
   "execution_count": 16,
   "metadata": {},
   "outputs": [
    {
     "name": "stdout",
     "output_type": "stream",
     "text": [
      "nucleotide diversity"
     ]
    },
    {
     "data": {
      "text/html": [
       "0.0199768720581943"
      ],
      "text/latex": [
       "0.0199768720581943"
      ],
      "text/markdown": [
       "0.0199768720581943"
      ],
      "text/plain": [
       "[1] 0.01997687"
      ]
     },
     "metadata": {},
     "output_type": "display_data"
    },
    {
     "data": {
      "text/html": [
       "7.38127513191556e-06"
      ],
      "text/latex": [
       "7.38127513191556e-06"
      ],
      "text/markdown": [
       "7.38127513191556e-06"
      ],
      "text/plain": [
       "[1] 7.381275e-06"
      ]
     },
     "metadata": {},
     "output_type": "display_data"
    },
    {
     "name": "stdout",
     "output_type": "stream",
     "text": [
      "haplotype diversity"
     ]
    },
    {
     "data": {
      "text/html": [
       "0.8683"
      ],
      "text/latex": [
       "0.8683"
      ],
      "text/markdown": [
       "0.8683"
      ],
      "text/plain": [
       "[1] 0.8683"
      ]
     },
     "metadata": {},
     "output_type": "display_data"
    },
    {
     "data": {
      "text/html": [
       "0.00285239452749148"
      ],
      "text/latex": [
       "0.00285239452749148"
      ],
      "text/markdown": [
       "0.00285239452749148"
      ],
      "text/plain": [
       "[1] 0.002852395"
      ]
     },
     "metadata": {},
     "output_type": "display_data"
    }
   ],
   "source": [
    "#mtDNA-TC\n",
    "df=read.dna(\"mtDNA-TC.fas\",\"fasta\")\n",
    "totaln=length(df[,1])\n",
    "n=20\n",
    "nuc=c()\n",
    "hap=c()\n",
    "for (i in 1:1000){\n",
    "    a=df[c(sample(totaln,n,replace=T)),]\n",
    "    nuc[i]=nuc.div(a)\n",
    "    hap[i]=hap.div(a)\n",
    "}\n",
    "#nucleotide diveristy\n",
    "cat(\"nucleotide diversity\")\n",
    "mean(nuc);var(nuc)\n",
    "#haplotype diversity\n",
    "cat(\"haplotype diversity\")\n",
    "mean(hap);var(hap)"
   ]
  },
  {
   "cell_type": "code",
   "execution_count": 17,
   "metadata": {},
   "outputs": [
    {
     "name": "stdout",
     "output_type": "stream",
     "text": [
      "nucleotide diversity"
     ]
    },
    {
     "data": {
      "text/html": [
       "0.0249419895398613"
      ],
      "text/latex": [
       "0.0249419895398613"
      ],
      "text/markdown": [
       "0.0249419895398613"
      ],
      "text/plain": [
       "[1] 0.02494199"
      ]
     },
     "metadata": {},
     "output_type": "display_data"
    },
    {
     "data": {
      "text/html": [
       "5.02126906578304e-06"
      ],
      "text/latex": [
       "5.02126906578304e-06"
      ],
      "text/markdown": [
       "5.02126906578304e-06"
      ],
      "text/plain": [
       "[1] 5.021269e-06"
      ]
     },
     "metadata": {},
     "output_type": "display_data"
    },
    {
     "name": "stdout",
     "output_type": "stream",
     "text": [
      "haplotype diversity"
     ]
    },
    {
     "data": {
      "text/html": [
       "0.922157894736842"
      ],
      "text/latex": [
       "0.922157894736842"
      ],
      "text/markdown": [
       "0.922157894736842"
      ],
      "text/plain": [
       "[1] 0.9221579"
      ]
     },
     "metadata": {},
     "output_type": "display_data"
    },
    {
     "data": {
      "text/html": [
       "0.000950864992416239"
      ],
      "text/latex": [
       "0.000950864992416239"
      ],
      "text/markdown": [
       "0.000950864992416239"
      ],
      "text/plain": [
       "[1] 0.000950865"
      ]
     },
     "metadata": {},
     "output_type": "display_data"
    }
   ],
   "source": [
    "#mtDNA-YQ\n",
    "df=read.dna(\"mtDNA-YQ.fas\",\"fasta\")\n",
    "totaln=length(df[,1])\n",
    "n=20\n",
    "nuc=c()\n",
    "hap=c()\n",
    "for (i in 1:1000){\n",
    "    a=df[c(sample(totaln,n,replace=T)),]\n",
    "    nuc[i]=nuc.div(a)\n",
    "    hap[i]=hap.div(a)\n",
    "}\n",
    "#nucleotide diveristy\n",
    "cat(\"nucleotide diversity\")\n",
    "mean(nuc);var(nuc)\n",
    "#haplotype diversity\n",
    "cat(\"haplotype diversity\")\n",
    "mean(hap);var(hap)"
   ]
  },
  {
   "cell_type": "code",
   "execution_count": null,
   "metadata": {},
   "outputs": [],
   "source": []
  }
 ],
 "metadata": {
  "kernelspec": {
   "display_name": "R",
   "language": "R",
   "name": "ir"
  },
  "language_info": {
   "codemirror_mode": "r",
   "file_extension": ".r",
   "mimetype": "text/x-r-source",
   "name": "R",
   "pygments_lexer": "r",
   "version": "4.0.2"
  }
 },
 "nbformat": 4,
 "nbformat_minor": 4
}
