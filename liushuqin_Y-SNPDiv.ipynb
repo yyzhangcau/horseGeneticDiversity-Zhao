{
 "cells": [
  {
   "cell_type": "code",
   "execution_count": null,
   "metadata": {},
   "outputs": [],
   "source": [
    "library(\"pegas\")\n",
    "setwd(\"C:/zyywd/20200611_liu/Y-SNP\")\n",
    "set.seed(44)"
   ]
  },
  {
   "cell_type": "code",
   "execution_count": 2,
   "metadata": {},
   "outputs": [
    {
     "name": "stdout",
     "output_type": "stream",
     "text": [
      "nucleotide diversity"
     ]
    },
    {
     "data": {
      "text/html": [
       "3.78919383845492e-05"
      ],
      "text/latex": [
       "3.78919383845492e-05"
      ],
      "text/markdown": [
       "3.78919383845492e-05"
      ],
      "text/plain": [
       "[1] 3.789194e-05"
      ]
     },
     "metadata": {},
     "output_type": "display_data"
    },
    {
     "data": {
      "text/html": [
       "4.25009875454309e-10"
      ],
      "text/latex": [
       "4.25009875454309e-10"
      ],
      "text/markdown": [
       "4.25009875454309e-10"
      ],
      "text/plain": [
       "[1] 4.250099e-10"
      ]
     },
     "metadata": {},
     "output_type": "display_data"
    },
    {
     "name": "stdout",
     "output_type": "stream",
     "text": [
      "haplotype diversity"
     ]
    },
    {
     "data": {
      "text/html": [
       "0.328222222222222"
      ],
      "text/latex": [
       "0.328222222222222"
      ],
      "text/markdown": [
       "0.328222222222222"
      ],
      "text/plain": [
       "[1] 0.3282222"
      ]
     },
     "metadata": {},
     "output_type": "display_data"
    },
    {
     "data": {
      "text/html": [
       "0.0318724156255021"
      ],
      "text/latex": [
       "0.0318724156255021"
      ],
      "text/markdown": [
       "0.0318724156255021"
      ],
      "text/plain": [
       "[1] 0.03187242"
      ]
     },
     "metadata": {},
     "output_type": "display_data"
    }
   ],
   "source": [
    "#y-SNP-AR\n",
    "df=read.dna(\"y-SNP-AR.FASTA\",\"fasta\")\n",
    "totaln=length(df[,1])\n",
    "n=10\n",
    "nuc=c()\n",
    "hap=c()\n",
    "for (i in 1:1000){\n",
    "    a=df[c(sample(totaln,n,replace=T)),]\n",
    "    nuc[i]=nuc.div(a)\n",
    "    hap[i]=hap.div(a)\n",
    "}\n",
    "#nucleotide diveristy\n",
    "cat(\"nucleotide diversity\")\n",
    "mean(nuc);var(nuc)\n",
    "#haplotype diversity\n",
    "cat(\"haplotype diversity\")\n",
    "mean(hap);var(hap)"
   ]
  },
  {
   "cell_type": "code",
   "execution_count": 3,
   "metadata": {},
   "outputs": [
    {
     "name": "stdout",
     "output_type": "stream",
     "text": [
      "nucleotide diversity"
     ]
    },
    {
     "data": {
      "text/html": [
       "2.11677446019459e-05"
      ],
      "text/latex": [
       "2.11677446019459e-05"
      ],
      "text/markdown": [
       "2.11677446019459e-05"
      ],
      "text/plain": [
       "[1] 2.116774e-05"
      ]
     },
     "metadata": {},
     "output_type": "display_data"
    },
    {
     "data": {
      "text/html": [
       "4.33449528144771e-11"
      ],
      "text/latex": [
       "4.33449528144771e-11"
      ],
      "text/markdown": [
       "4.33449528144771e-11"
      ],
      "text/plain": [
       "[1] 4.334495e-11"
      ]
     },
     "metadata": {},
     "output_type": "display_data"
    },
    {
     "name": "stdout",
     "output_type": "stream",
     "text": [
      "haplotype diversity"
     ]
    },
    {
     "data": {
      "text/html": [
       "0.421111111111111"
      ],
      "text/latex": [
       "0.421111111111111"
      ],
      "text/markdown": [
       "0.421111111111111"
      ],
      "text/plain": [
       "[1] 0.4211111"
      ]
     },
     "metadata": {},
     "output_type": "display_data"
    },
    {
     "data": {
      "text/html": [
       "0.0171546855497473"
      ],
      "text/latex": [
       "0.0171546855497473"
      ],
      "text/markdown": [
       "0.0171546855497473"
      ],
      "text/plain": [
       "[1] 0.01715469"
      ]
     },
     "metadata": {},
     "output_type": "display_data"
    }
   ],
   "source": [
    "#y-SNP-AT\n",
    "df=read.dna(\"y-SNP-AT.FASTA\",\"fasta\")\n",
    "totaln=length(df[,1])\n",
    "n=10\n",
    "nuc=c()\n",
    "hap=c()\n",
    "for (i in 1:1000){\n",
    "    a=df[c(sample(totaln,n,replace=T)),]\n",
    "    nuc[i]=nuc.div(a)\n",
    "    hap[i]=hap.div(a)\n",
    "}\n",
    "#nucleotide diveristy\n",
    "cat(\"nucleotide diversity\")\n",
    "mean(nuc);var(nuc)\n",
    "#haplotype diversity\n",
    "cat(\"haplotype diversity\")\n",
    "mean(hap);var(hap)"
   ]
  },
  {
   "cell_type": "code",
   "execution_count": 4,
   "metadata": {},
   "outputs": [
    {
     "name": "stdout",
     "output_type": "stream",
     "text": [
      "nucleotide diversity"
     ]
    },
    {
     "data": {
      "text/html": [
       "0.000164427018754957"
      ],
      "text/latex": [
       "0.000164427018754957"
      ],
      "text/markdown": [
       "0.000164427018754957"
      ],
      "text/plain": [
       "[1] 0.000164427"
      ]
     },
     "metadata": {},
     "output_type": "display_data"
    },
    {
     "data": {
      "text/html": [
       "1.66752574246264e-09"
      ],
      "text/latex": [
       "1.66752574246264e-09"
      ],
      "text/markdown": [
       "1.66752574246264e-09"
      ],
      "text/plain": [
       "[1] 1.667526e-09"
      ]
     },
     "metadata": {},
     "output_type": "display_data"
    },
    {
     "name": "stdout",
     "output_type": "stream",
     "text": [
      "haplotype diversity"
     ]
    },
    {
     "data": {
      "text/html": [
       "0.832266666666667"
      ],
      "text/latex": [
       "0.832266666666667"
      ],
      "text/markdown": [
       "0.832266666666667"
      ],
      "text/plain": [
       "[1] 0.8322667"
      ]
     },
     "metadata": {},
     "output_type": "display_data"
    },
    {
     "data": {
      "text/html": [
       "0.00773103770437104"
      ],
      "text/latex": [
       "0.00773103770437104"
      ],
      "text/markdown": [
       "0.00773103770437104"
      ],
      "text/plain": [
       "[1] 0.007731038"
      ]
     },
     "metadata": {},
     "output_type": "display_data"
    }
   ],
   "source": [
    "#y-SNP-DBP\n",
    "df=read.dna(\"y-SNP-DBP.fas\",\"fasta\")\n",
    "totaln=length(df[,1])\n",
    "n=10\n",
    "nuc=c()\n",
    "hap=c()\n",
    "for (i in 1:1000){\n",
    "    a=df[c(sample(totaln,n,replace=T)),]\n",
    "    nuc[i]=nuc.div(a)\n",
    "    hap[i]=hap.div(a)\n",
    "}\n",
    "#nucleotide diveristy\n",
    "cat(\"nucleotide diversity\")\n",
    "mean(nuc);var(nuc)\n",
    "#haplotype diversity\n",
    "cat(\"haplotype diversity\")\n",
    "mean(hap);var(hap)"
   ]
  },
  {
   "cell_type": "code",
   "execution_count": 6,
   "metadata": {},
   "outputs": [
    {
     "name": "stdout",
     "output_type": "stream",
     "text": [
      "nucleotide diversity"
     ]
    },
    {
     "data": {
      "text/html": [
       "0.000181100946125577"
      ],
      "text/latex": [
       "0.000181100946125577"
      ],
      "text/markdown": [
       "0.000181100946125577"
      ],
      "text/plain": [
       "[1] 0.0001811009"
      ]
     },
     "metadata": {},
     "output_type": "display_data"
    },
    {
     "data": {
      "text/html": [
       "1.36357321364952e-09"
      ],
      "text/latex": [
       "1.36357321364952e-09"
      ],
      "text/markdown": [
       "1.36357321364952e-09"
      ],
      "text/plain": [
       "[1] 1.363573e-09"
      ]
     },
     "metadata": {},
     "output_type": "display_data"
    },
    {
     "name": "stdout",
     "output_type": "stream",
     "text": [
      "haplotype diversity"
     ]
    },
    {
     "data": {
      "text/html": [
       "0.806377777777778"
      ],
      "text/latex": [
       "0.806377777777778"
      ],
      "text/markdown": [
       "0.806377777777778"
      ],
      "text/plain": [
       "[1] 0.8063778"
      ]
     },
     "metadata": {},
     "output_type": "display_data"
    },
    {
     "data": {
      "text/html": [
       "0.00445909168427687"
      ],
      "text/latex": [
       "0.00445909168427687"
      ],
      "text/markdown": [
       "0.00445909168427687"
      ],
      "text/plain": [
       "[1] 0.004459092"
      ]
     },
     "metadata": {},
     "output_type": "display_data"
    }
   ],
   "source": [
    "#y-SNP-GZ\n",
    "df=read.dna(\"y-SNP-GZ.fas\",\"fasta\")\n",
    "totaln=length(df[,1])\n",
    "n=10\n",
    "nuc=c()\n",
    "hap=c()\n",
    "for (i in 1:1000){\n",
    "    a=df[c(sample(totaln,n,replace=T)),]\n",
    "    nuc[i]=nuc.div(a)\n",
    "    hap[i]=hap.div(a)\n",
    "}\n",
    "#nucleotide diveristy\n",
    "cat(\"nucleotide diversity\")\n",
    "mean(nuc);var(nuc)\n",
    "#haplotype diversity\n",
    "cat(\"haplotype diversity\")\n",
    "mean(hap);var(hap)"
   ]
  },
  {
   "cell_type": "code",
   "execution_count": 7,
   "metadata": {},
   "outputs": [
    {
     "name": "stdout",
     "output_type": "stream",
     "text": [
      "nucleotide diversity"
     ]
    },
    {
     "data": {
      "text/html": [
       "4.49381723132603e-05"
      ],
      "text/latex": [
       "4.49381723132603e-05"
      ],
      "text/markdown": [
       "4.49381723132603e-05"
      ],
      "text/plain": [
       "[1] 4.493817e-05"
      ]
     },
     "metadata": {},
     "output_type": "display_data"
    },
    {
     "data": {
      "text/html": [
       "1.43974538313797e-10"
      ],
      "text/latex": [
       "1.43974538313797e-10"
      ],
      "text/markdown": [
       "1.43974538313797e-10"
      ],
      "text/plain": [
       "[1] 1.439745e-10"
      ]
     },
     "metadata": {},
     "output_type": "display_data"
    },
    {
     "name": "stdout",
     "output_type": "stream",
     "text": [
      "haplotype diversity"
     ]
    },
    {
     "data": {
      "text/html": [
       "0.447"
      ],
      "text/latex": [
       "0.447"
      ],
      "text/markdown": [
       "0.447"
      ],
      "text/plain": [
       "[1] 0.447"
      ]
     },
     "metadata": {},
     "output_type": "display_data"
    },
    {
     "data": {
      "text/html": [
       "0.0142452452452453"
      ],
      "text/latex": [
       "0.0142452452452453"
      ],
      "text/markdown": [
       "0.0142452452452453"
      ],
      "text/plain": [
       "[1] 0.01424525"
      ]
     },
     "metadata": {},
     "output_type": "display_data"
    }
   ],
   "source": [
    "#y-SNP-KZK\n",
    "df=read.dna(\"y-SNP-KZK.FASTA\",\"fasta\")\n",
    "totaln=length(df[,1])\n",
    "n=10\n",
    "nuc=c()\n",
    "hap=c()\n",
    "for (i in 1:1000){\n",
    "    a=df[c(sample(totaln,n,replace=T)),]\n",
    "    nuc[i]=nuc.div(a)\n",
    "    hap[i]=hap.div(a)\n",
    "}\n",
    "#nucleotide diveristy\n",
    "cat(\"nucleotide diversity\")\n",
    "mean(nuc);var(nuc)\n",
    "#haplotype diversity\n",
    "cat(\"haplotype diversity\")\n",
    "mean(hap);var(hap)"
   ]
  },
  {
   "cell_type": "code",
   "execution_count": 8,
   "metadata": {},
   "outputs": [
    {
     "name": "stdout",
     "output_type": "stream",
     "text": [
      "nucleotide diversity"
     ]
    },
    {
     "data": {
      "text/html": [
       "9.39691475933559e-05"
      ],
      "text/latex": [
       "9.39691475933559e-05"
      ],
      "text/markdown": [
       "9.39691475933559e-05"
      ],
      "text/plain": [
       "[1] 9.396915e-05"
      ]
     },
     "metadata": {},
     "output_type": "display_data"
    },
    {
     "data": {
      "text/html": [
       "1.09901550213198e-09"
      ],
      "text/latex": [
       "1.09901550213198e-09"
      ],
      "text/markdown": [
       "1.09901550213198e-09"
      ],
      "text/plain": [
       "[1] 1.099016e-09"
      ]
     },
     "metadata": {},
     "output_type": "display_data"
    },
    {
     "name": "stdout",
     "output_type": "stream",
     "text": [
      "haplotype diversity"
     ]
    },
    {
     "data": {
      "text/html": [
       "0.724933333333333"
      ],
      "text/latex": [
       "0.724933333333333"
      ],
      "text/markdown": [
       "0.724933333333333"
      ],
      "text/plain": [
       "[1] 0.7249333"
      ]
     },
     "metadata": {},
     "output_type": "display_data"
    },
    {
     "data": {
      "text/html": [
       "0.00986720844301091"
      ],
      "text/latex": [
       "0.00986720844301091"
      ],
      "text/markdown": [
       "0.00986720844301091"
      ],
      "text/plain": [
       "[1] 0.009867208"
      ]
     },
     "metadata": {},
     "output_type": "display_data"
    }
   ],
   "source": [
    "#y-SNP-LJ\n",
    "df=read.dna(\"y-SNP-LJ.fas\",\"fasta\")\n",
    "totaln=length(df[,1])\n",
    "n=10\n",
    "nuc=c()\n",
    "hap=c()\n",
    "for (i in 1:1000){\n",
    "    a=df[c(sample(totaln,n,replace=T)),]\n",
    "    nuc[i]=nuc.div(a)\n",
    "    hap[i]=hap.div(a)\n",
    "}\n",
    "#nucleotide diveristy\n",
    "cat(\"nucleotide diversity\")\n",
    "mean(nuc);var(nuc)\n",
    "#haplotype diversity\n",
    "cat(\"haplotype diversity\")\n",
    "mean(hap);var(hap)"
   ]
  },
  {
   "cell_type": "code",
   "execution_count": 9,
   "metadata": {},
   "outputs": [
    {
     "name": "stdout",
     "output_type": "stream",
     "text": [
      "nucleotide diversity"
     ]
    },
    {
     "data": {
      "text/html": [
       "8.87928241904315e-06"
      ],
      "text/latex": [
       "8.87928241904315e-06"
      ],
      "text/markdown": [
       "8.87928241904315e-06"
      ],
      "text/plain": [
       "[1] 8.879282e-06"
      ]
     },
     "metadata": {},
     "output_type": "display_data"
    },
    {
     "data": {
      "text/html": [
       "6.09695800516391e-11"
      ],
      "text/latex": [
       "6.09695800516391e-11"
      ],
      "text/markdown": [
       "6.09695800516391e-11"
      ],
      "text/plain": [
       "[1] 6.096958e-11"
      ]
     },
     "metadata": {},
     "output_type": "display_data"
    },
    {
     "name": "stdout",
     "output_type": "stream",
     "text": [
      "haplotype diversity"
     ]
    },
    {
     "data": {
      "text/html": [
       "0.176644444444444"
      ],
      "text/latex": [
       "0.176644444444444"
      ],
      "text/markdown": [
       "0.176644444444444"
      ],
      "text/plain": [
       "[1] 0.1766444"
      ]
     },
     "metadata": {},
     "output_type": "display_data"
    },
    {
     "data": {
      "text/html": [
       "0.0241300060554381"
      ],
      "text/latex": [
       "0.0241300060554381"
      ],
      "text/markdown": [
       "0.0241300060554381"
      ],
      "text/plain": [
       "[1] 0.02413001"
      ]
     },
     "metadata": {},
     "output_type": "display_data"
    }
   ],
   "source": [
    "#y-SNP-TB\n",
    "df=read.dna(\"y-SNP-TB.FASTA\",\"fasta\")\n",
    "totaln=length(df[,1])\n",
    "n=10\n",
    "nuc=c()\n",
    "hap=c()\n",
    "for (i in 1:1000){\n",
    "    a=df[c(sample(totaln,n,replace=T)),]\n",
    "    nuc[i]=nuc.div(a)\n",
    "    hap[i]=hap.div(a)\n",
    "}\n",
    "#nucleotide diveristy\n",
    "cat(\"nucleotide diversity\")\n",
    "mean(nuc);var(nuc)\n",
    "#haplotype diversity\n",
    "cat(\"haplotype diversity\")\n",
    "mean(hap);var(hap)"
   ]
  },
  {
   "cell_type": "code",
   "execution_count": 10,
   "metadata": {},
   "outputs": [
    {
     "name": "stdout",
     "output_type": "stream",
     "text": [
      "nucleotide diversity"
     ]
    },
    {
     "data": {
      "text/html": [
       "9.85322207700814e-05"
      ],
      "text/latex": [
       "9.85322207700814e-05"
      ],
      "text/markdown": [
       "9.85322207700814e-05"
      ],
      "text/plain": [
       "[1] 9.853222e-05"
      ]
     },
     "metadata": {},
     "output_type": "display_data"
    },
    {
     "data": {
      "text/html": [
       "8.36062693588469e-10"
      ],
      "text/latex": [
       "8.36062693588469e-10"
      ],
      "text/markdown": [
       "8.36062693588469e-10"
      ],
      "text/plain": [
       "[1] 8.360627e-10"
      ]
     },
     "metadata": {},
     "output_type": "display_data"
    },
    {
     "name": "stdout",
     "output_type": "stream",
     "text": [
      "haplotype diversity"
     ]
    },
    {
     "data": {
      "text/html": [
       "0.736333333333333"
      ],
      "text/latex": [
       "0.736333333333333"
      ],
      "text/markdown": [
       "0.736333333333333"
      ],
      "text/plain": [
       "[1] 0.7363333"
      ]
     },
     "metadata": {},
     "output_type": "display_data"
    },
    {
     "data": {
      "text/html": [
       "0.010490873589639"
      ],
      "text/latex": [
       "0.010490873589639"
      ],
      "text/markdown": [
       "0.010490873589639"
      ],
      "text/plain": [
       "[1] 0.01049087"
      ]
     },
     "metadata": {},
     "output_type": "display_data"
    }
   ],
   "source": [
    "#y-SNP-TC\n",
    "df=read.dna(\"y-SNP-TC.fas\",\"fasta\")\n",
    "totaln=length(df[,1])\n",
    "n=10\n",
    "nuc=c()\n",
    "hap=c()\n",
    "for (i in 1:1000){\n",
    "    a=df[c(sample(totaln,n,replace=T)),]\n",
    "    nuc[i]=nuc.div(a)\n",
    "    hap[i]=hap.div(a)\n",
    "}\n",
    "#nucleotide diveristy\n",
    "cat(\"nucleotide diversity\")\n",
    "mean(nuc);var(nuc)\n",
    "#haplotype diversity\n",
    "cat(\"haplotype diversity\")\n",
    "mean(hap);var(hap)"
   ]
  },
  {
   "cell_type": "code",
   "execution_count": null,
   "metadata": {},
   "outputs": [],
   "source": []
  }
 ],
 "metadata": {
  "kernelspec": {
   "display_name": "R",
   "language": "R",
   "name": "ir"
  },
  "language_info": {
   "codemirror_mode": "r",
   "file_extension": ".r",
   "mimetype": "text/x-r-source",
   "name": "R",
   "pygments_lexer": "r",
   "version": "4.0.2"
  }
 },
 "nbformat": 4,
 "nbformat_minor": 4
}
