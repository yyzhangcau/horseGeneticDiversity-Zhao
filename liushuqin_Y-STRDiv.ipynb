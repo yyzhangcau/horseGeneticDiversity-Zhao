{
 "cells": [
  {
   "cell_type": "code",
   "execution_count": 4,
   "metadata": {},
   "outputs": [],
   "source": [
    "library(\"polysat\")\n",
    "setwd(\"C:/Users/yyzha/zyywd/20200611_liu/Y-STR\")"
   ]
  },
  {
   "cell_type": "code",
   "execution_count": null,
   "metadata": {},
   "outputs": [],
   "source": []
  },
  {
   "cell_type": "code",
   "execution_count": 5,
   "metadata": {},
   "outputs": [],
   "source": [
    "df=read.table(\"Y-STR.txt\",header=T,row.names = 1)\n",
    "df_DBP=df[df$\"pop\"==\"DBP\",]\n",
    "df_GZ=df[df$\"pop\"==\"GZ\",]\n",
    "df_LJ=df[df$\"pop\"==\"LJ\",]\n",
    "df_TC=df[df$\"pop\"==\"TC\",]"
   ]
  },
  {
   "cell_type": "code",
   "execution_count": 6,
   "metadata": {},
   "outputs": [
    {
     "data": {
      "text/html": [
       "<table>\n",
       "<caption>A matrix: 5 × 2 of type dbl</caption>\n",
       "<thead>\n",
       "\t<tr><th></th><th scope=col>PIC_mean</th><th scope=col>PIC_var</th></tr>\n",
       "</thead>\n",
       "<tbody>\n",
       "\t<tr><th scope=row>DBP</th><td>0.2401598</td><td>0.019023998</td></tr>\n",
       "\t<tr><th scope=row>GZ</th><td>0.2725914</td><td>0.008362181</td></tr>\n",
       "\t<tr><th scope=row>LJ</th><td>0.0000000</td><td>0.000000000</td></tr>\n",
       "\t<tr><th scope=row>TC</th><td>0.1358278</td><td>0.016498813</td></tr>\n",
       "\t<tr><th scope=row>Overall</th><td>0.2106077</td><td>0.005148729</td></tr>\n",
       "</tbody>\n",
       "</table>\n"
      ],
      "text/latex": [
       "A matrix: 5 × 2 of type dbl\n",
       "\\begin{tabular}{r|ll}\n",
       "  & PIC\\_mean & PIC\\_var\\\\\n",
       "\\hline\n",
       "\tDBP & 0.2401598 & 0.019023998\\\\\n",
       "\tGZ & 0.2725914 & 0.008362181\\\\\n",
       "\tLJ & 0.0000000 & 0.000000000\\\\\n",
       "\tTC & 0.1358278 & 0.016498813\\\\\n",
       "\tOverall & 0.2106077 & 0.005148729\\\\\n",
       "\\end{tabular}\n"
      ],
      "text/markdown": [
       "\n",
       "A matrix: 5 × 2 of type dbl\n",
       "\n",
       "| <!--/--> | PIC_mean | PIC_var |\n",
       "|---|---|---|\n",
       "| DBP | 0.2401598 | 0.019023998 |\n",
       "| GZ | 0.2725914 | 0.008362181 |\n",
       "| LJ | 0.0000000 | 0.000000000 |\n",
       "| TC | 0.1358278 | 0.016498813 |\n",
       "| Overall | 0.2106077 | 0.005148729 |\n",
       "\n"
      ],
      "text/plain": [
       "        PIC_mean  PIC_var    \n",
       "DBP     0.2401598 0.019023998\n",
       "GZ      0.2725914 0.008362181\n",
       "LJ      0.0000000 0.000000000\n",
       "TC      0.1358278 0.016498813\n",
       "Overall 0.2106077 0.005148729"
      ]
     },
     "metadata": {},
     "output_type": "display_data"
    }
   ],
   "source": [
    "#ECAYA16\n",
    "res1=data.frame(matrix(NA,5,1000))\n",
    "for (i in 1:1000){\n",
    "  newdf=rbind(df_DBP[sample(80,10,replace=T),],\n",
    "              df_TC[sample(33,10,replace=T),],\n",
    "              df_LJ[sample(36,10,replace=T),],\n",
    "              df_GZ[sample(12,10,replace=T),])\n",
    "  a<-as.data.frame.matrix(table(newdf[,1:2]))/10\n",
    "  if(dim(a)[2]==1){\n",
    "    res1[,i]=data.frame(matrix(0,5,1))\n",
    "  }else{\n",
    "     b=a\n",
    "     names(b)=paste0(\"loc.\",i,names(a))\n",
    "     b[,\"Genomes\"]=c(10,10,10,10)\n",
    "     res1[,i]=PIC(b)\n",
    "  }\n",
    " \n",
    "}\n",
    "PIC_mean=apply(res1,1,mean)\n",
    "PIC_var=apply(res1,1,var)\n",
    "results=cbind(PIC_mean,PIC_var)\n",
    "rownames(results)=c(\"DBP\",\"GZ\",\"LJ\",\"TC\",\"Overall\")\n",
    "results"
   ]
  },
  {
   "cell_type": "code",
   "execution_count": 7,
   "metadata": {},
   "outputs": [
    {
     "data": {
      "text/html": [
       "<table>\n",
       "<caption>A matrix: 5 × 2 of type dbl</caption>\n",
       "<thead>\n",
       "\t<tr><th></th><th scope=col>PIC_mean</th><th scope=col>PIC_var</th></tr>\n",
       "</thead>\n",
       "<tbody>\n",
       "\t<tr><th scope=row>DBP</th><td>0.4483600</td><td>0.010718483</td></tr>\n",
       "\t<tr><th scope=row>GZ</th><td>0.5426794</td><td>0.008912608</td></tr>\n",
       "\t<tr><th scope=row>LJ</th><td>0.1596856</td><td>0.019343998</td></tr>\n",
       "\t<tr><th scope=row>TC</th><td>0.2785372</td><td>0.019544291</td></tr>\n",
       "\t<tr><th scope=row>Overall</th><td>0.5055124</td><td>0.002259032</td></tr>\n",
       "</tbody>\n",
       "</table>\n"
      ],
      "text/latex": [
       "A matrix: 5 × 2 of type dbl\n",
       "\\begin{tabular}{r|ll}\n",
       "  & PIC\\_mean & PIC\\_var\\\\\n",
       "\\hline\n",
       "\tDBP & 0.4483600 & 0.010718483\\\\\n",
       "\tGZ & 0.5426794 & 0.008912608\\\\\n",
       "\tLJ & 0.1596856 & 0.019343998\\\\\n",
       "\tTC & 0.2785372 & 0.019544291\\\\\n",
       "\tOverall & 0.5055124 & 0.002259032\\\\\n",
       "\\end{tabular}\n"
      ],
      "text/markdown": [
       "\n",
       "A matrix: 5 × 2 of type dbl\n",
       "\n",
       "| <!--/--> | PIC_mean | PIC_var |\n",
       "|---|---|---|\n",
       "| DBP | 0.4483600 | 0.010718483 |\n",
       "| GZ | 0.5426794 | 0.008912608 |\n",
       "| LJ | 0.1596856 | 0.019343998 |\n",
       "| TC | 0.2785372 | 0.019544291 |\n",
       "| Overall | 0.5055124 | 0.002259032 |\n",
       "\n"
      ],
      "text/plain": [
       "        PIC_mean  PIC_var    \n",
       "DBP     0.4483600 0.010718483\n",
       "GZ      0.5426794 0.008912608\n",
       "LJ      0.1596856 0.019343998\n",
       "TC      0.2785372 0.019544291\n",
       "Overall 0.5055124 0.002259032"
      ]
     },
     "metadata": {},
     "output_type": "display_data"
    }
   ],
   "source": [
    "#ECAYP12\n",
    "res1=data.frame(matrix(NA,5,1000))\n",
    "for (i in 1:1000){\n",
    "  newdf=rbind(df_DBP[sample(80,10,replace=T),],\n",
    "              df_TC[sample(33,10,replace=T),],\n",
    "              df_LJ[sample(36,10,replace=T),],\n",
    "              df_GZ[sample(12,10,replace=T),])\n",
    "  a<-as.data.frame.matrix(table(newdf[,c(1,3)]))/10\n",
    "  if(dim(a)[2]==1){\n",
    "    res1[,i]=data.frame(matrix(0,5,1))\n",
    "  }else{\n",
    "     b=a\n",
    "     names(b)=paste0(\"loc.\",i,names(a))\n",
    "     b[,\"Genomes\"]=c(10,10,10,10)\n",
    "     res1[,i]=PIC(b)\n",
    "  }\n",
    " \n",
    "}\n",
    "PIC_mean=apply(res1,1,mean)\n",
    "PIC_var=apply(res1,1,var)\n",
    "results=cbind(PIC_mean,PIC_var)\n",
    "rownames(results)=c(\"DBP\",\"GZ\",\"LJ\",\"TC\",\"Overall\")\n",
    "results"
   ]
  },
  {
   "cell_type": "code",
   "execution_count": 8,
   "metadata": {},
   "outputs": [
    {
     "data": {
      "text/html": [
       "<table>\n",
       "<caption>A matrix: 5 × 2 of type dbl</caption>\n",
       "<thead>\n",
       "\t<tr><th></th><th scope=col>PIC_mean</th><th scope=col>PIC_var</th></tr>\n",
       "</thead>\n",
       "<tbody>\n",
       "\t<tr><th scope=row>DBP</th><td>0.1721034</td><td>0.012835631</td></tr>\n",
       "\t<tr><th scope=row>GZ</th><td>0.3078432</td><td>0.006287099</td></tr>\n",
       "\t<tr><th scope=row>LJ</th><td>0.0000000</td><td>0.000000000</td></tr>\n",
       "\t<tr><th scope=row>TC</th><td>0.0000000</td><td>0.000000000</td></tr>\n",
       "\t<tr><th scope=row>Overall</th><td>0.1748574</td><td>0.003217194</td></tr>\n",
       "</tbody>\n",
       "</table>\n"
      ],
      "text/latex": [
       "A matrix: 5 × 2 of type dbl\n",
       "\\begin{tabular}{r|ll}\n",
       "  & PIC\\_mean & PIC\\_var\\\\\n",
       "\\hline\n",
       "\tDBP & 0.1721034 & 0.012835631\\\\\n",
       "\tGZ & 0.3078432 & 0.006287099\\\\\n",
       "\tLJ & 0.0000000 & 0.000000000\\\\\n",
       "\tTC & 0.0000000 & 0.000000000\\\\\n",
       "\tOverall & 0.1748574 & 0.003217194\\\\\n",
       "\\end{tabular}\n"
      ],
      "text/markdown": [
       "\n",
       "A matrix: 5 × 2 of type dbl\n",
       "\n",
       "| <!--/--> | PIC_mean | PIC_var |\n",
       "|---|---|---|\n",
       "| DBP | 0.1721034 | 0.012835631 |\n",
       "| GZ | 0.3078432 | 0.006287099 |\n",
       "| LJ | 0.0000000 | 0.000000000 |\n",
       "| TC | 0.0000000 | 0.000000000 |\n",
       "| Overall | 0.1748574 | 0.003217194 |\n",
       "\n"
      ],
      "text/plain": [
       "        PIC_mean  PIC_var    \n",
       "DBP     0.1721034 0.012835631\n",
       "GZ      0.3078432 0.006287099\n",
       "LJ      0.0000000 0.000000000\n",
       "TC      0.0000000 0.000000000\n",
       "Overall 0.1748574 0.003217194"
      ]
     },
     "metadata": {},
     "output_type": "display_data"
    }
   ],
   "source": [
    "#ECAYP13\n",
    "res1=data.frame(matrix(NA,5,1000))\n",
    "for (i in 1:1000){\n",
    "  newdf=rbind(df_DBP[sample(80,10,replace=T),],\n",
    "              df_TC[sample(33,10,replace=T),],\n",
    "              df_LJ[sample(36,10,replace=T),],\n",
    "              df_GZ[sample(12,10,replace=T),])\n",
    "  a<-as.data.frame.matrix(table(newdf[,c(1,4)]))/10\n",
    "  if(dim(a)[2]==1){\n",
    "    res1[,i]=data.frame(matrix(0,5,1))\n",
    "  }else{\n",
    "     b=a\n",
    "     names(b)=paste0(\"loc.\",i,names(a))\n",
    "     b[,\"Genomes\"]=c(10,10,10,10)\n",
    "     res1[,i]=PIC(b)\n",
    "  }\n",
    " \n",
    "}\n",
    "PIC_mean=apply(res1,1,mean)\n",
    "PIC_var=apply(res1,1,var)\n",
    "results=cbind(PIC_mean,PIC_var)\n",
    "rownames(results)=c(\"DBP\",\"GZ\",\"LJ\",\"TC\",\"Overall\")\n",
    "results"
   ]
  },
  {
   "cell_type": "code",
   "execution_count": 9,
   "metadata": {},
   "outputs": [
    {
     "data": {
      "text/html": [
       "<table>\n",
       "<caption>A matrix: 5 × 2 of type dbl</caption>\n",
       "<thead>\n",
       "\t<tr><th></th><th scope=col>PIC_mean</th><th scope=col>PIC_var</th></tr>\n",
       "</thead>\n",
       "<tbody>\n",
       "\t<tr><th scope=row>DBP</th><td>0.1647048</td><td>0.013738826</td></tr>\n",
       "\t<tr><th scope=row>GZ</th><td>0.3144246</td><td>0.005423331</td></tr>\n",
       "\t<tr><th scope=row>LJ</th><td>0.0000000</td><td>0.000000000</td></tr>\n",
       "\t<tr><th scope=row>TC</th><td>0.0000000</td><td>0.000000000</td></tr>\n",
       "\t<tr><th scope=row>Overall</th><td>0.1759336</td><td>0.003076388</td></tr>\n",
       "</tbody>\n",
       "</table>\n"
      ],
      "text/latex": [
       "A matrix: 5 × 2 of type dbl\n",
       "\\begin{tabular}{r|ll}\n",
       "  & PIC\\_mean & PIC\\_var\\\\\n",
       "\\hline\n",
       "\tDBP & 0.1647048 & 0.013738826\\\\\n",
       "\tGZ & 0.3144246 & 0.005423331\\\\\n",
       "\tLJ & 0.0000000 & 0.000000000\\\\\n",
       "\tTC & 0.0000000 & 0.000000000\\\\\n",
       "\tOverall & 0.1759336 & 0.003076388\\\\\n",
       "\\end{tabular}\n"
      ],
      "text/markdown": [
       "\n",
       "A matrix: 5 × 2 of type dbl\n",
       "\n",
       "| <!--/--> | PIC_mean | PIC_var |\n",
       "|---|---|---|\n",
       "| DBP | 0.1647048 | 0.013738826 |\n",
       "| GZ | 0.3144246 | 0.005423331 |\n",
       "| LJ | 0.0000000 | 0.000000000 |\n",
       "| TC | 0.0000000 | 0.000000000 |\n",
       "| Overall | 0.1759336 | 0.003076388 |\n",
       "\n"
      ],
      "text/plain": [
       "        PIC_mean  PIC_var    \n",
       "DBP     0.1647048 0.013738826\n",
       "GZ      0.3144246 0.005423331\n",
       "LJ      0.0000000 0.000000000\n",
       "TC      0.0000000 0.000000000\n",
       "Overall 0.1759336 0.003076388"
      ]
     },
     "metadata": {},
     "output_type": "display_data"
    }
   ],
   "source": [
    "#B125\n",
    "res1=data.frame(matrix(NA,5,1000))\n",
    "for (i in 1:1000){\n",
    "  newdf=rbind(df_DBP[sample(80,10,replace=T),],\n",
    "              df_TC[sample(33,10,replace=T),],\n",
    "              df_LJ[sample(36,10,replace=T),],\n",
    "              df_GZ[sample(12,10,replace=T),])\n",
    "  a<-as.data.frame.matrix(table(newdf[,c(1,4)]))/10\n",
    "  if(dim(a)[2]==1){\n",
    "    res1[,i]=data.frame(matrix(0,5,1))\n",
    "  }else{\n",
    "     b=a\n",
    "     names(b)=paste0(\"loc.\",i,names(a))\n",
    "     b[,\"Genomes\"]=c(10,10,10,10)\n",
    "     res1[,i]=PIC(b)\n",
    "  }\n",
    " \n",
    "}\n",
    "PIC_mean=apply(res1,1,mean)\n",
    "PIC_var=apply(res1,1,var)\n",
    "results=cbind(PIC_mean,PIC_var)\n",
    "rownames(results)=c(\"DBP\",\"GZ\",\"LJ\",\"TC\",\"Overall\")\n",
    "results"
   ]
  },
  {
   "cell_type": "code",
   "execution_count": null,
   "metadata": {},
   "outputs": [],
   "source": []
  }
 ],
 "metadata": {
  "kernelspec": {
   "display_name": "R",
   "language": "R",
   "name": "ir"
  },
  "language_info": {
   "codemirror_mode": "r",
   "file_extension": ".r",
   "mimetype": "text/x-r-source",
   "name": "R",
   "pygments_lexer": "r",
   "version": "4.0.2"
  }
 },
 "nbformat": 4,
 "nbformat_minor": 4
}
